{
 "cells": [
  {
   "cell_type": "markdown",
   "metadata": {},
   "source": [
    "Шифр сдвига (при k = 3 имеем т.н. Шифр Цезаря):\n",
    "    -Задается число k <> 0\n",
    "    -Вводится сообщение\n",
    "    -Каждый символ сообщения (кроме знаков пунктуации и пр.) заменяется на символ следующий за ним в алфавите через k позиций\n",
    "    -Для дешифровки каждый символ зашифрованного текста заменяется на символ стоящий перед ним k позиций назад"
   ]
  },
  {
   "cell_type": "code",
   "execution_count": null,
   "metadata": {},
   "outputs": [],
   "source": [
    "from string import ascii_lowercase, ascii_uppercase\n",
    "\n",
    "ALPHABET = list(ascii_lowercase + ascii_uppercase)\n",
    "#ALPHABET.extend(' !@#$%^&*_-+=<>/№;:?')\n",
    "#print(ALPHABET)\n",
    "\n",
    "def Shift(k, t):\n",
    "    dt = []\n",
    "    for c in t:\n",
    "        dt.append(ALPHABET[ALPHABET.index(c) - len(ALPHABET) + k] if c in ALPHABET else c)\n",
    "    return ''.join(dt)\n",
    "\n",
    "Shift(int(input(\"Введите сдвиг \")), input(\"Введите текст \"))"
   ]
  }
 ],
 "metadata": {
  "kernelspec": {
   "display_name": "Python 3",
   "language": "python",
   "name": "python3"
  },
  "language_info": {
   "codemirror_mode": {
    "name": "ipython",
    "version": 3
   },
   "file_extension": ".py",
   "mimetype": "text/x-python",
   "name": "python",
   "nbconvert_exporter": "python",
   "pygments_lexer": "ipython3",
   "version": "3.6.1"
  }
 },
 "nbformat": 4,
 "nbformat_minor": 2
}
