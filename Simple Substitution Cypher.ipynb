{
 "cells": [
  {
   "cell_type": "markdown",
   "metadata": {},
   "source": [
    "Шифр простой подстановки:\n",
    "1) Определяются 2 набора уникальных символов\n",
    "2) Каждому символу из набора 1 однозначно ставится в соответствие символ из набора 2\n",
    "3) Вводятся сообщения для шифрования/расшифровки"
   ]
  },
  {
   "cell_type": "code",
   "execution_count": 6,
   "metadata": {},
   "outputs": [
    {
     "name": "stdout",
     "output_type": "stream",
     "text": [
      "Алфавит сообщения: фыва\n",
      "Алфавит шифра: ячсм\n",
      "Текущая перестановка: \n",
      "ф ы в а\n",
      "я ч с м\n",
      "Сообщение: фыук\n",
      "Зашифровано:  ячук\n",
      "Нужно расшифровать: ячук\n",
      "Расшифровано:  фыук\n"
     ]
    }
   ],
   "source": [
    "def translate(s, d):\n",
    "    ts = []\n",
    "    for c in s:\n",
    "        ts.append(d[c] if c in d.keys() else c)\n",
    "    return \"\".join(ts)\n",
    "        \n",
    "alph_start = list(input(\"Алфавит сообщения: \"))\n",
    "alph_fin = list(input(\"Алфавит шифра: \"))\n",
    "\n",
    "cypher_dict = dict(zip(alph_start, alph_fin))\n",
    "decypher_dict = dict(zip(alph_fin, alph_start))\n",
    "\n",
    "print(\"Текущая перестановка: \")\n",
    "print(*alph_start)\n",
    "print(*alph_fin)\n",
    "\n",
    "to_cypher = input(\"Сообщение: \")\n",
    "print(\"Зашифровано: \", translate(to_cypher, cypher_dict))\n",
    "\n",
    "to_decypher = input(\"Нужно расшифровать: \")\n",
    "print(\"Расшифровано: \", translate(to_decypher, decypher_dict))"
   ]
  },
  {
   "cell_type": "code",
   "execution_count": 11,
   "metadata": {},
   "outputs": [
    {
     "name": "stdout",
     "output_type": "stream",
     "text": [
      "Текущая перестановка: \n",
      "a b c d e f g h i j k l m n o p q r s t u v w x y z\n",
      "a q e i m x j l f c w s p b g n v z d o t h u y k r\n",
      "Сообщение: qwerty\n",
      "Зашифровано:  vumzok\n",
      "Нужно расшифровать: vumzok\n",
      "Расшифровано:  qwerty\n"
     ]
    }
   ],
   "source": [
    "from string import ascii_lowercase as alph\n",
    "from random import sample\n",
    "\n",
    "def translate(s, d):\n",
    "    ts = []\n",
    "    for c in s:\n",
    "        ts.append(d[c] if c in d.keys() else c)\n",
    "    return \"\".join(ts)\n",
    "\n",
    "palph = sample(alph, len(alph))\n",
    "\n",
    "cypher_dict = dict(zip(alph, palph))\n",
    "decypher_dict = dict(zip(palph, alph))\n",
    "\n",
    "print(\"Текущая перестановка: \")\n",
    "print(*alph)\n",
    "print(*palph)\n",
    "\n",
    "to_cypher = input(\"Сообщение: \")\n",
    "print(\"Зашифровано: \", translate(to_cypher, cypher_dict))\n",
    "\n",
    "to_decypher = input(\"Нужно расшифровать: \")\n",
    "print(\"Расшифровано: \", translate(to_decypher, decypher_dict))"
   ]
  }
 ],
 "metadata": {
  "kernelspec": {
   "display_name": "Python 3",
   "language": "python",
   "name": "python3"
  },
  "language_info": {
   "codemirror_mode": {
    "name": "ipython",
    "version": 3
   },
   "file_extension": ".py",
   "mimetype": "text/x-python",
   "name": "python",
   "nbconvert_exporter": "python",
   "pygments_lexer": "ipython3",
   "version": "3.6.1"
  }
 },
 "nbformat": 4,
 "nbformat_minor": 2
}
